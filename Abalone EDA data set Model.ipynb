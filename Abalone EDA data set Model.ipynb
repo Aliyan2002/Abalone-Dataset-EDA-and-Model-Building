{
 "cells": [
  {
   "cell_type": "code",
   "execution_count": 35,
   "id": "8e133e72",
   "metadata": {},
   "outputs": [
    {
     "data": {
      "text/plain": [
       "(4177, 9)"
      ]
     },
     "execution_count": 35,
     "metadata": {},
     "output_type": "execute_result"
    }
   ],
   "source": [
    "import pandas as pd\n",
    "df=pd.read_csv('abalone.csv')\n",
    "df.shape"
   ]
  },
  {
   "cell_type": "code",
   "execution_count": 2,
   "id": "fcb1c92f",
   "metadata": {},
   "outputs": [
    {
     "data": {
      "text/plain": [
       "Sex                object\n",
       "Length            float64\n",
       "Diameter          float64\n",
       "Height            float64\n",
       "Whole weight      float64\n",
       "Shucked weight    float64\n",
       "Viscera weight    float64\n",
       "Shell weight      float64\n",
       "Rings               int64\n",
       "dtype: object"
      ]
     },
     "execution_count": 2,
     "metadata": {},
     "output_type": "execute_result"
    }
   ],
   "source": [
    "df.dtypes"
   ]
  },
  {
   "cell_type": "code",
   "execution_count": 3,
   "id": "edb5683d",
   "metadata": {},
   "outputs": [
    {
     "data": {
      "text/plain": [
       "Rings             1.000000\n",
       "Shell weight      0.627574\n",
       "Diameter          0.574660\n",
       "Height            0.557467\n",
       "Length            0.556720\n",
       "Whole weight      0.540390\n",
       "Viscera weight    0.503819\n",
       "Shucked weight    0.420884\n",
       "Name: Rings, dtype: float64"
      ]
     },
     "execution_count": 3,
     "metadata": {},
     "output_type": "execute_result"
    }
   ],
   "source": [
    "a=df.corr()\n",
    "a['Rings'].abs().sort_values(ascending=False)"
   ]
  },
  {
   "cell_type": "code",
   "execution_count": 4,
   "id": "6553827e",
   "metadata": {},
   "outputs": [
    {
     "data": {
      "text/plain": [
       "M    1528\n",
       "I    1342\n",
       "F    1307\n",
       "Name: Sex, dtype: int64"
      ]
     },
     "execution_count": 4,
     "metadata": {},
     "output_type": "execute_result"
    }
   ],
   "source": [
    "df['Sex'].value_counts()"
   ]
  },
  {
   "cell_type": "code",
   "execution_count": 5,
   "id": "893be4b3",
   "metadata": {},
   "outputs": [
    {
     "data": {
      "text/html": [
       "<div>\n",
       "<style scoped>\n",
       "    .dataframe tbody tr th:only-of-type {\n",
       "        vertical-align: middle;\n",
       "    }\n",
       "\n",
       "    .dataframe tbody tr th {\n",
       "        vertical-align: top;\n",
       "    }\n",
       "\n",
       "    .dataframe thead th {\n",
       "        text-align: right;\n",
       "    }\n",
       "</style>\n",
       "<table border=\"1\" class=\"dataframe\">\n",
       "  <thead>\n",
       "    <tr style=\"text-align: right;\">\n",
       "      <th></th>\n",
       "      <th>Sex</th>\n",
       "      <th>Length</th>\n",
       "      <th>Diameter</th>\n",
       "      <th>Height</th>\n",
       "      <th>Whole weight</th>\n",
       "      <th>Shucked weight</th>\n",
       "      <th>Viscera weight</th>\n",
       "      <th>Shell weight</th>\n",
       "      <th>Rings</th>\n",
       "    </tr>\n",
       "  </thead>\n",
       "  <tbody>\n",
       "    <tr>\n",
       "      <th>0</th>\n",
       "      <td>1</td>\n",
       "      <td>0.455</td>\n",
       "      <td>0.365</td>\n",
       "      <td>0.095</td>\n",
       "      <td>0.5140</td>\n",
       "      <td>0.2245</td>\n",
       "      <td>0.1010</td>\n",
       "      <td>0.150</td>\n",
       "      <td>15</td>\n",
       "    </tr>\n",
       "    <tr>\n",
       "      <th>1</th>\n",
       "      <td>1</td>\n",
       "      <td>0.350</td>\n",
       "      <td>0.265</td>\n",
       "      <td>0.090</td>\n",
       "      <td>0.2255</td>\n",
       "      <td>0.0995</td>\n",
       "      <td>0.0485</td>\n",
       "      <td>0.070</td>\n",
       "      <td>7</td>\n",
       "    </tr>\n",
       "    <tr>\n",
       "      <th>2</th>\n",
       "      <td>2</td>\n",
       "      <td>0.530</td>\n",
       "      <td>0.420</td>\n",
       "      <td>0.135</td>\n",
       "      <td>0.6770</td>\n",
       "      <td>0.2565</td>\n",
       "      <td>0.1415</td>\n",
       "      <td>0.210</td>\n",
       "      <td>9</td>\n",
       "    </tr>\n",
       "    <tr>\n",
       "      <th>3</th>\n",
       "      <td>1</td>\n",
       "      <td>0.440</td>\n",
       "      <td>0.365</td>\n",
       "      <td>0.125</td>\n",
       "      <td>0.5160</td>\n",
       "      <td>0.2155</td>\n",
       "      <td>0.1140</td>\n",
       "      <td>0.155</td>\n",
       "      <td>10</td>\n",
       "    </tr>\n",
       "    <tr>\n",
       "      <th>4</th>\n",
       "      <td>3</td>\n",
       "      <td>0.330</td>\n",
       "      <td>0.255</td>\n",
       "      <td>0.080</td>\n",
       "      <td>0.2050</td>\n",
       "      <td>0.0895</td>\n",
       "      <td>0.0395</td>\n",
       "      <td>0.055</td>\n",
       "      <td>7</td>\n",
       "    </tr>\n",
       "  </tbody>\n",
       "</table>\n",
       "</div>"
      ],
      "text/plain": [
       "   Sex  Length  Diameter  Height  Whole weight  Shucked weight  \\\n",
       "0    1   0.455     0.365   0.095        0.5140          0.2245   \n",
       "1    1   0.350     0.265   0.090        0.2255          0.0995   \n",
       "2    2   0.530     0.420   0.135        0.6770          0.2565   \n",
       "3    1   0.440     0.365   0.125        0.5160          0.2155   \n",
       "4    3   0.330     0.255   0.080        0.2050          0.0895   \n",
       "\n",
       "   Viscera weight  Shell weight  Rings  \n",
       "0          0.1010         0.150     15  \n",
       "1          0.0485         0.070      7  \n",
       "2          0.1415         0.210      9  \n",
       "3          0.1140         0.155     10  \n",
       "4          0.0395         0.055      7  "
      ]
     },
     "execution_count": 5,
     "metadata": {},
     "output_type": "execute_result"
    }
   ],
   "source": [
    "d={'M':1,'F':2,'I':3}\n",
    "df['Sex']=df['Sex'].map(d)\n",
    "df.head(5)"
   ]
  },
  {
   "cell_type": "code",
   "execution_count": 6,
   "id": "5b367eab",
   "metadata": {},
   "outputs": [],
   "source": [
    "x=df.iloc[:,:-1]\n",
    "y=df['Rings']"
   ]
  },
  {
   "cell_type": "code",
   "execution_count": 7,
   "id": "d4dbda32",
   "metadata": {},
   "outputs": [],
   "source": [
    "from sklearn.model_selection import train_test_split\n",
    "xtr,xte,ytr,yte=train_test_split(x,y,test_size=0.2,random_state=42)"
   ]
  },
  {
   "cell_type": "code",
   "execution_count": 8,
   "id": "9741ce86",
   "metadata": {},
   "outputs": [],
   "source": [
    "a=xtr['Sex'].values\n",
    "b=xte['Sex'].values\n",
    "xtr.drop(columns=['Sex'],axis=1,inplace=True)\n",
    "xte.drop(columns=['Sex'],axis=1,inplace=True)"
   ]
  },
  {
   "cell_type": "code",
   "execution_count": 9,
   "id": "71703c27",
   "metadata": {},
   "outputs": [
    {
     "data": {
      "text/html": [
       "<div>\n",
       "<style scoped>\n",
       "    .dataframe tbody tr th:only-of-type {\n",
       "        vertical-align: middle;\n",
       "    }\n",
       "\n",
       "    .dataframe tbody tr th {\n",
       "        vertical-align: top;\n",
       "    }\n",
       "\n",
       "    .dataframe thead th {\n",
       "        text-align: right;\n",
       "    }\n",
       "</style>\n",
       "<table border=\"1\" class=\"dataframe\">\n",
       "  <thead>\n",
       "    <tr style=\"text-align: right;\">\n",
       "      <th></th>\n",
       "      <th>Length</th>\n",
       "      <th>Diameter</th>\n",
       "      <th>Height</th>\n",
       "      <th>Whole weight</th>\n",
       "      <th>Shucked weight</th>\n",
       "      <th>Viscera weight</th>\n",
       "      <th>Shell weight</th>\n",
       "      <th>Sex</th>\n",
       "    </tr>\n",
       "  </thead>\n",
       "  <tbody>\n",
       "    <tr>\n",
       "      <th>0</th>\n",
       "      <td>0.210175</td>\n",
       "      <td>0.369725</td>\n",
       "      <td>-0.347950</td>\n",
       "      <td>-0.323164</td>\n",
       "      <td>-0.325407</td>\n",
       "      <td>-0.405130</td>\n",
       "      <td>-0.212132</td>\n",
       "      <td>3</td>\n",
       "    </tr>\n",
       "    <tr>\n",
       "      <th>1</th>\n",
       "      <td>-0.419444</td>\n",
       "      <td>-0.542386</td>\n",
       "      <td>-0.936082</td>\n",
       "      <td>-0.665985</td>\n",
       "      <td>-0.480126</td>\n",
       "      <td>-0.820932</td>\n",
       "      <td>-0.712419</td>\n",
       "      <td>3</td>\n",
       "    </tr>\n",
       "    <tr>\n",
       "      <th>2</th>\n",
       "      <td>-1.846581</td>\n",
       "      <td>-1.859881</td>\n",
       "      <td>-1.641840</td>\n",
       "      <td>-1.388250</td>\n",
       "      <td>-1.354628</td>\n",
       "      <td>-1.346395</td>\n",
       "      <td>-1.391379</td>\n",
       "      <td>2</td>\n",
       "    </tr>\n",
       "    <tr>\n",
       "      <th>3</th>\n",
       "      <td>-2.098428</td>\n",
       "      <td>-2.113245</td>\n",
       "      <td>-1.759467</td>\n",
       "      <td>-1.453355</td>\n",
       "      <td>-1.363597</td>\n",
       "      <td>-1.533734</td>\n",
       "      <td>-1.462848</td>\n",
       "      <td>3</td>\n",
       "    </tr>\n",
       "    <tr>\n",
       "      <th>4</th>\n",
       "      <td>-0.251546</td>\n",
       "      <td>-0.289022</td>\n",
       "      <td>-0.112697</td>\n",
       "      <td>-0.409632</td>\n",
       "      <td>-0.437522</td>\n",
       "      <td>-0.350299</td>\n",
       "      <td>-0.176398</td>\n",
       "      <td>1</td>\n",
       "    </tr>\n",
       "  </tbody>\n",
       "</table>\n",
       "</div>"
      ],
      "text/plain": [
       "     Length  Diameter    Height  Whole weight  Shucked weight  Viscera weight  \\\n",
       "0  0.210175  0.369725 -0.347950     -0.323164       -0.325407       -0.405130   \n",
       "1 -0.419444 -0.542386 -0.936082     -0.665985       -0.480126       -0.820932   \n",
       "2 -1.846581 -1.859881 -1.641840     -1.388250       -1.354628       -1.346395   \n",
       "3 -2.098428 -2.113245 -1.759467     -1.453355       -1.363597       -1.533734   \n",
       "4 -0.251546 -0.289022 -0.112697     -0.409632       -0.437522       -0.350299   \n",
       "\n",
       "   Shell weight  Sex  \n",
       "0     -0.212132    3  \n",
       "1     -0.712419    3  \n",
       "2     -1.391379    2  \n",
       "3     -1.462848    3  \n",
       "4     -0.176398    1  "
      ]
     },
     "execution_count": 9,
     "metadata": {},
     "output_type": "execute_result"
    }
   ],
   "source": [
    "from sklearn.preprocessing import StandardScaler\n",
    "sd=StandardScaler()\n",
    "sd.fit(xtr)\n",
    "xtr=sd.transform(xtr)\n",
    "xtr=pd.DataFrame(xtr,columns=['Length','Diameter','Height','Whole weight','Shucked weight','Viscera weight','Shell weight'])\n",
    "xtr['Sex']=a\n",
    "xtr.head(5)"
   ]
  },
  {
   "cell_type": "code",
   "execution_count": 10,
   "id": "a1446f0e",
   "metadata": {},
   "outputs": [
    {
     "data": {
      "text/html": [
       "<div>\n",
       "<style scoped>\n",
       "    .dataframe tbody tr th:only-of-type {\n",
       "        vertical-align: middle;\n",
       "    }\n",
       "\n",
       "    .dataframe tbody tr th {\n",
       "        vertical-align: top;\n",
       "    }\n",
       "\n",
       "    .dataframe thead th {\n",
       "        text-align: right;\n",
       "    }\n",
       "</style>\n",
       "<table border=\"1\" class=\"dataframe\">\n",
       "  <thead>\n",
       "    <tr style=\"text-align: right;\">\n",
       "      <th></th>\n",
       "      <th>Length</th>\n",
       "      <th>Diameter</th>\n",
       "      <th>Height</th>\n",
       "      <th>Whole weight</th>\n",
       "      <th>Shucked weight</th>\n",
       "      <th>Viscera weight</th>\n",
       "      <th>Shell weight</th>\n",
       "      <th>Sex</th>\n",
       "    </tr>\n",
       "  </thead>\n",
       "  <tbody>\n",
       "    <tr>\n",
       "      <th>0</th>\n",
       "      <td>0.671895</td>\n",
       "      <td>0.471071</td>\n",
       "      <td>0.475434</td>\n",
       "      <td>0.554743</td>\n",
       "      <td>0.271048</td>\n",
       "      <td>1.102722</td>\n",
       "      <td>0.609767</td>\n",
       "      <td>1</td>\n",
       "    </tr>\n",
       "    <tr>\n",
       "      <th>1</th>\n",
       "      <td>0.545971</td>\n",
       "      <td>0.319052</td>\n",
       "      <td>0.240182</td>\n",
       "      <td>0.084763</td>\n",
       "      <td>0.118571</td>\n",
       "      <td>0.312242</td>\n",
       "      <td>0.038011</td>\n",
       "      <td>1</td>\n",
       "    </tr>\n",
       "    <tr>\n",
       "      <th>2</th>\n",
       "      <td>0.294124</td>\n",
       "      <td>0.369725</td>\n",
       "      <td>1.298819</td>\n",
       "      <td>0.305511</td>\n",
       "      <td>-0.249168</td>\n",
       "      <td>0.399058</td>\n",
       "      <td>0.681236</td>\n",
       "      <td>2</td>\n",
       "    </tr>\n",
       "    <tr>\n",
       "      <th>3</th>\n",
       "      <td>0.923743</td>\n",
       "      <td>0.825781</td>\n",
       "      <td>0.710687</td>\n",
       "      <td>0.876201</td>\n",
       "      <td>0.797991</td>\n",
       "      <td>0.782875</td>\n",
       "      <td>1.002849</td>\n",
       "      <td>2</td>\n",
       "    </tr>\n",
       "    <tr>\n",
       "      <th>4</th>\n",
       "      <td>-0.419444</td>\n",
       "      <td>-0.238349</td>\n",
       "      <td>0.122555</td>\n",
       "      <td>-0.434047</td>\n",
       "      <td>-0.563092</td>\n",
       "      <td>-0.665577</td>\n",
       "      <td>-0.176398</td>\n",
       "      <td>1</td>\n",
       "    </tr>\n",
       "  </tbody>\n",
       "</table>\n",
       "</div>"
      ],
      "text/plain": [
       "     Length  Diameter    Height  Whole weight  Shucked weight  Viscera weight  \\\n",
       "0  0.671895  0.471071  0.475434      0.554743        0.271048        1.102722   \n",
       "1  0.545971  0.319052  0.240182      0.084763        0.118571        0.312242   \n",
       "2  0.294124  0.369725  1.298819      0.305511       -0.249168        0.399058   \n",
       "3  0.923743  0.825781  0.710687      0.876201        0.797991        0.782875   \n",
       "4 -0.419444 -0.238349  0.122555     -0.434047       -0.563092       -0.665577   \n",
       "\n",
       "   Shell weight  Sex  \n",
       "0      0.609767    1  \n",
       "1      0.038011    1  \n",
       "2      0.681236    2  \n",
       "3      1.002849    2  \n",
       "4     -0.176398    1  "
      ]
     },
     "execution_count": 10,
     "metadata": {},
     "output_type": "execute_result"
    }
   ],
   "source": [
    "xte=sd.transform(xte)\n",
    "xte=pd.DataFrame(xte,columns=['Length','Diameter','Height','Whole weight','Shucked weight','Viscera weight','Shell weight'])\n",
    "xte['Sex']=b\n",
    "xte.head(5)"
   ]
  },
  {
   "cell_type": "code",
   "execution_count": 11,
   "id": "7ff749d4",
   "metadata": {},
   "outputs": [],
   "source": [
    "xtr1=xtr.copy()\n",
    "xte1=xte.copy()"
   ]
  },
  {
   "cell_type": "code",
   "execution_count": 13,
   "id": "540b2b0f",
   "metadata": {},
   "outputs": [
    {
     "data": {
      "text/plain": [
       "(3341, 8)"
      ]
     },
     "execution_count": 13,
     "metadata": {},
     "output_type": "execute_result"
    }
   ],
   "source": [
    "xtr1.shape"
   ]
  },
  {
   "cell_type": "markdown",
   "id": "8c52686e",
   "metadata": {},
   "source": [
    "# Assumptions of multicollinearity"
   ]
  },
  {
   "cell_type": "code",
   "execution_count": 14,
   "id": "77afaec1",
   "metadata": {},
   "outputs": [
    {
     "name": "stdout",
     "output_type": "stream",
     "text": [
      "        variables         VIF\n",
      "0          Length   42.485494\n",
      "1        Diameter   43.291185\n",
      "2          Height    3.261560\n",
      "3    Whole weight  125.250920\n",
      "4  Shucked weight   32.177344\n",
      "5  Viscera weight   17.897838\n",
      "6    Shell weight   23.306422\n",
      "7             Sex    1.034061\n"
     ]
    }
   ],
   "source": [
    "from statsmodels.stats.outliers_influence import variance_inflation_factor\n",
    "def calc_vif(X):\n",
    "\n",
    "    # Calculating VIF\n",
    "    vif = pd.DataFrame()\n",
    "    vif[\"variables\"] = X.columns\n",
    "    vif[\"VIF\"] = [variance_inflation_factor(X.values, i) for i in range(X.shape[1])]\n",
    "\n",
    "    return(vif)\n",
    "\n",
    "print(calc_vif(xtr))"
   ]
  },
  {
   "cell_type": "code",
   "execution_count": 15,
   "id": "b6bcffdc",
   "metadata": {},
   "outputs": [],
   "source": [
    "xtr1.drop(['Whole weight','Diameter', 'Viscera weight'],axis=1,inplace=True)\n",
    "xte1.drop(['Whole weight','Diameter', 'Viscera weight'],axis=1,inplace=True)"
   ]
  },
  {
   "cell_type": "code",
   "execution_count": 17,
   "id": "20372e45",
   "metadata": {},
   "outputs": [
    {
     "name": "stdout",
     "output_type": "stream",
     "text": [
      "        variables       VIF\n",
      "0          Length  7.680005\n",
      "1          Height  3.202338\n",
      "2  Shucked weight  6.281809\n",
      "3    Shell weight  6.459267\n",
      "4             Sex  1.032646\n"
     ]
    }
   ],
   "source": [
    "print(calc_vif(xtr1))"
   ]
  },
  {
   "cell_type": "markdown",
   "id": "4e120723",
   "metadata": {},
   "source": [
    "# Linear Regression"
   ]
  },
  {
   "cell_type": "code",
   "execution_count": 18,
   "id": "e6aa7d2f",
   "metadata": {},
   "outputs": [],
   "source": [
    "from sklearn.linear_model import LinearRegression\n",
    "l=LinearRegression()\n",
    "l.fit(xtr1,ytr)\n",
    "ytepred=l.predict(xte1)\n",
    "ytrpred=l.predict(xtr1)"
   ]
  },
  {
   "cell_type": "code",
   "execution_count": 19,
   "id": "c2496ab0",
   "metadata": {},
   "outputs": [
    {
     "name": "stdout",
     "output_type": "stream",
     "text": [
      "Mean Squared Error of Train Data is: 4.992172351283302\n",
      "Mean Squared Error of Test Data is: 5.2684000709757015\n"
     ]
    }
   ],
   "source": [
    "from sklearn.metrics import mean_squared_error, mean_absolute_error\n",
    "print(\"Mean Squared Error of Train Data is:\",mean_squared_error(ytr,ytrpred))\n",
    "print(\"Mean Squared Error of Test Data is:\",mean_squared_error(yte,ytepred))"
   ]
  },
  {
   "cell_type": "code",
   "execution_count": 20,
   "id": "fcc54ad2",
   "metadata": {},
   "outputs": [
    {
     "name": "stdout",
     "output_type": "stream",
     "text": [
      "Mean Absolute Error of Train Data is: 1.6034938133050303\n",
      "Mean Absolute Error of Test Data is: 1.6586642121905544\n"
     ]
    }
   ],
   "source": [
    "print(\"Mean Absolute Error of Train Data is:\",mean_absolute_error(ytr,ytrpred))\n",
    "print(\"Mean Absolute Error of Test Data is:\",mean_absolute_error(yte,ytepred))"
   ]
  },
  {
   "cell_type": "markdown",
   "id": "6988ec16",
   "metadata": {},
   "source": [
    "# Ridge"
   ]
  },
  {
   "cell_type": "code",
   "execution_count": 21,
   "id": "a18f0ecb",
   "metadata": {},
   "outputs": [
    {
     "name": "stdout",
     "output_type": "stream",
     "text": [
      "R Squared Error: 0.495\n",
      "Best Param: {'alpha': 1}\n"
     ]
    }
   ],
   "source": [
    "# Ridge Regression\n",
    "\n",
    "from numpy import arange\n",
    "from pandas import read_csv\n",
    "from sklearn.model_selection import GridSearchCV\n",
    "from sklearn.model_selection import RepeatedKFold\n",
    "from sklearn.linear_model import Ridge\n",
    "# load the dataset\n",
    "# define model\n",
    "model = Ridge()\n",
    "# define model evaluation method\n",
    "cv = RepeatedKFold(n_splits=10, n_repeats=3, random_state=1)\n",
    "# define grid\n",
    "grid = dict()\n",
    "grid['alpha'] = [0.001,0.01,0.1,1,10]\n",
    "# define search\n",
    "search = GridSearchCV(model, grid, scoring='r2', cv=cv, n_jobs=-1)\n",
    "# perform the search\n",
    "results = search.fit(xtr1, ytr)\n",
    "# summarize\n",
    "print('R Squared Error: %.3f' % results.best_score_)\n",
    "print('Best Param: %s' % results.best_params_)"
   ]
  },
  {
   "cell_type": "code",
   "execution_count": 23,
   "id": "6e838f06",
   "metadata": {},
   "outputs": [
    {
     "name": "stdout",
     "output_type": "stream",
     "text": [
      "Mean Squared Error of Train Data is: 4.992185089149074\n",
      "Mean Squared Error of Test Data is: 5.267749957810223\n"
     ]
    }
   ],
   "source": [
    "rd=results.best_estimator_\n",
    "rd.fit(xtr1,ytr)\n",
    "ytepred=rd.predict(xte1)\n",
    "ytrpred=rd.predict(xtr1)\n",
    "print(\"Mean Squared Error of Train Data is:\",mean_squared_error(ytr,ytrpred))\n",
    "print(\"Mean Squared Error of Test Data is:\",mean_squared_error(yte,ytepred))"
   ]
  },
  {
   "cell_type": "code",
   "execution_count": 36,
   "id": "5064024f",
   "metadata": {},
   "outputs": [
    {
     "name": "stdout",
     "output_type": "stream",
     "text": [
      "Mean Absolute Error of Train Data is: 1.603705217223507\n",
      "Mean Absolute Error of Test Data is: 1.6547683033862501\n"
     ]
    }
   ],
   "source": [
    "print(\"Mean Absolute Error of Train Data is:\",mean_absolute_error(ytr,ytrpred))\n",
    "print(\"Mean Absolute Error of Test Data is:\",mean_absolute_error(yte,ytepred))"
   ]
  },
  {
   "cell_type": "markdown",
   "id": "03d639cc",
   "metadata": {},
   "source": [
    "# Lasso"
   ]
  },
  {
   "cell_type": "code",
   "execution_count": 26,
   "id": "f76607c6",
   "metadata": {},
   "outputs": [
    {
     "name": "stdout",
     "output_type": "stream",
     "text": [
      "Best Params : {'alpha': 0.001}\n"
     ]
    }
   ],
   "source": [
    "# define model\n",
    "from sklearn.linear_model import Lasso\n",
    "model = Lasso()\n",
    "# define model evaluation method\n",
    "cv = RepeatedKFold(n_splits=10, n_repeats=3, random_state=1)\n",
    "# define grid\n",
    "grid = dict()\n",
    "grid['alpha'] = [0.001,0.01,0.1,1,10]\n",
    "# define search\n",
    "search = GridSearchCV(model, grid, scoring='r2', cv=cv, n_jobs=-1)\n",
    "# perform the search\n",
    "results = search.fit(xtr1, ytr)\n",
    "# summarize\n",
    "print('Best Params : %s' % results.best_params_)"
   ]
  },
  {
   "cell_type": "code",
   "execution_count": 31,
   "id": "c53dfd18",
   "metadata": {},
   "outputs": [
    {
     "name": "stdout",
     "output_type": "stream",
     "text": [
      "Mean Squared Error of Train Data is: 4.995372797352421\n",
      "Mean Squared Error of Test Data is: 5.263093735205334\n"
     ]
    }
   ],
   "source": [
    "ls=results.best_estimator_\n",
    "ls.fit(xtr1,ytr)\n",
    "ytepred=ls.predict(xte1)\n",
    "ytrpred=ls.predict(xtr1)\n",
    "print(\"Mean Squared Error of Train Data is:\",mean_squared_error(ytr,ytrpred))\n",
    "print(\"Mean Squared Error of Test Data is:\",mean_squared_error(yte,ytepred))"
   ]
  },
  {
   "cell_type": "code",
   "execution_count": 32,
   "id": "62f00070",
   "metadata": {},
   "outputs": [
    {
     "name": "stdout",
     "output_type": "stream",
     "text": [
      "Mean Absolute Error of Train Data is: 1.603705217223507\n",
      "Mean Absolute Error of Test Data is: 1.6547683033862501\n"
     ]
    }
   ],
   "source": [
    "print(\"Mean Absolute Error of Train Data is:\",mean_absolute_error(ytr,ytrpred))\n",
    "print(\"Mean Absolute Error of Test Data is:\",mean_absolute_error(yte,ytepred))"
   ]
  },
  {
   "cell_type": "markdown",
   "id": "f8c88258",
   "metadata": {},
   "source": [
    "# Elastic Net"
   ]
  },
  {
   "cell_type": "code",
   "execution_count": 39,
   "id": "823150c3",
   "metadata": {},
   "outputs": [
    {
     "name": "stdout",
     "output_type": "stream",
     "text": [
      "Best Params : {'alpha': 0.01, 'l1_ratio': 0.9, 'max_iter': 100}\n"
     ]
    }
   ],
   "source": [
    "# define model\n",
    "from sklearn.linear_model import ElasticNet\n",
    "model = ElasticNet()\n",
    "# define model evaluation method\n",
    "cv = RepeatedKFold(n_splits=10, n_repeats=3, random_state=1)\n",
    "# define grid\n",
    "grid = dict()\n",
    "grid['alpha'] = [0.01,0.1,1,10]\n",
    "grid['max_iter']=[100,250,500]\n",
    "grid['l1_ratio']=arange(0, 1, 0.1)\n",
    "search = GridSearchCV(model, grid, scoring='r2', cv=cv, n_jobs=-1)\n",
    "# perform the search\n",
    "results = search.fit(xtr1, ytr)\n",
    "# summarize\n",
    "print('Best Params : %s' % results.best_params_)"
   ]
  },
  {
   "cell_type": "code",
   "execution_count": 41,
   "id": "10434c23",
   "metadata": {},
   "outputs": [
    {
     "name": "stdout",
     "output_type": "stream",
     "text": [
      "Mean Squared Error of Train Data is: 4.995372797352421\n",
      "Mean Squared Error of Test Data is: 5.263093735205334\n"
     ]
    }
   ],
   "source": [
    "el=results.best_estimator_\n",
    "el.fit(xtr1,ytr)\n",
    "ytrpred=el.predict(xtr1)\n",
    "ytepred=el.predict(xte1)\n",
    "print(\"Mean Squared Error of Train Data is:\",mean_squared_error(ytr,ytrpred))\n",
    "print(\"Mean Squared Error of Test Data is:\",mean_squared_error(yte,ytepred))"
   ]
  },
  {
   "cell_type": "code",
   "execution_count": 42,
   "id": "72c968d8",
   "metadata": {},
   "outputs": [
    {
     "name": "stdout",
     "output_type": "stream",
     "text": [
      "Mean Absolute Error of Train Data is: 1.603705217223507\n",
      "Mean Absolute Error of Test Data is: 1.6547683033862501\n"
     ]
    }
   ],
   "source": [
    "print(\"Mean Absolute Error of Train Data is:\",mean_absolute_error(ytr,ytrpred))\n",
    "print(\"Mean Absolute Error of Test Data is:\",mean_absolute_error(yte,ytepred))"
   ]
  },
  {
   "cell_type": "markdown",
   "id": "5ebeaa7d",
   "metadata": {},
   "source": [
    "# AdaBoost Regressor"
   ]
  },
  {
   "cell_type": "code",
   "execution_count": 51,
   "id": "036fbb75",
   "metadata": {},
   "outputs": [
    {
     "name": "stdout",
     "output_type": "stream",
     "text": [
      "Fitting 10 folds for each of 6 candidates, totalling 60 fits\n",
      "Best: 0.438781 using {'learning_rate': 0.001, 'n_estimators': 500}\n"
     ]
    }
   ],
   "source": [
    "from sklearn.model_selection import RepeatedKFold,KFold,cross_val_score\n",
    "from sklearn.ensemble import AdaBoostRegressor\n",
    "ada=AdaBoostRegressor()\n",
    "# evaluate the model\n",
    "grid = dict()\n",
    "grid['n_estimators'] = [100, 250, 500]\n",
    "grid['learning_rate'] = [0.0001, 0.001]\n",
    "# define the grid search procedure\n",
    "grid_search = GridSearchCV(estimator=ada, param_grid=grid, n_jobs=-1, cv=10, scoring='r2',verbose=2)\n",
    "# execute the grid search\n",
    "grid_result = grid_search.fit(xtr, ytr)\n",
    "# summarize the best score and configuration\n",
    "print(\"Best: %f using %s\" % (grid_result.best_score_, grid_result.best_params_))"
   ]
  },
  {
   "cell_type": "code",
   "execution_count": 52,
   "id": "87749249",
   "metadata": {},
   "outputs": [
    {
     "name": "stdout",
     "output_type": "stream",
     "text": [
      "Mean Squared Error of Train Data is: 5.5135437953461945\n",
      "Mean Squared Error of Test Data is: 6.093752206186159\n"
     ]
    }
   ],
   "source": [
    "ada=grid_result.best_estimator_\n",
    "ada.fit(xtr,ytr)\n",
    "trpred=ada.predict(xtr)\n",
    "tepred=ada.predict(xte)\n",
    "print(\"Mean Squared Error of Train Data is:\",mean_squared_error(ytr,trpred))\n",
    "print(\"Mean Squared Error of Test Data is:\",mean_squared_error(yte,tepred))"
   ]
  },
  {
   "cell_type": "code",
   "execution_count": 48,
   "id": "c9b618c9",
   "metadata": {},
   "outputs": [
    {
     "name": "stdout",
     "output_type": "stream",
     "text": [
      "Mean Absolute Error of Train Data is: 1.603705217223507\n",
      "Mean Absolute Error of Test Data is: 1.6547683033862501\n"
     ]
    }
   ],
   "source": [
    "print(\"Mean Absolute Error of Train Data is:\",mean_absolute_error(ytr,trpred))\n",
    "print(\"Mean Absolute Error of Test Data is:\",mean_absolute_error(yte,tepred))"
   ]
  },
  {
   "cell_type": "markdown",
   "id": "457823f3",
   "metadata": {},
   "source": [
    "# Random Forest Regressor"
   ]
  },
  {
   "cell_type": "code",
   "execution_count": 62,
   "id": "0262eaa6",
   "metadata": {},
   "outputs": [
    {
     "name": "stdout",
     "output_type": "stream",
     "text": [
      "Fitting 10 folds for each of 6 candidates, totalling 60 fits\n",
      "Best Params : {'max_depth': 5, 'n_estimators': 250}\n"
     ]
    }
   ],
   "source": [
    "from sklearn.ensemble import RandomForestRegressor\n",
    "param_grid = {\n",
    "    'max_depth': [3,5],\n",
    "    'n_estimators': [100,250,500]\n",
    "}\n",
    "# Create a based model\n",
    "rf = RandomForestRegressor()\n",
    "# Instantiate the grid search model\n",
    "grid_search = GridSearchCV(estimator = rf,scoring=\"r2\", param_grid = param_grid, \n",
    "                          cv = 10 , n_jobs = -1, verbose = 2)\n",
    "\n",
    "# Fit the grid search to the data\n",
    "grid_search.fit(xtr,ytr)\n",
    "print('Best Params : %s' % grid_search.best_params_)\n"
   ]
  },
  {
   "cell_type": "code",
   "execution_count": 63,
   "id": "449a30b7",
   "metadata": {},
   "outputs": [
    {
     "name": "stdout",
     "output_type": "stream",
     "text": [
      "Mean Squared Error of Train Data is: 5.52203411072555\n",
      "Mean Squared Error of Test Data is: 6.113652874671505\n"
     ]
    }
   ],
   "source": [
    "rf=grid_result.best_estimator_\n",
    "rf.fit(xtr,ytr)\n",
    "trpred=rf.predict(xtr)\n",
    "tepred=rf.predict(xte)\n",
    "print(\"Mean Squared Error of Train Data is:\",mean_squared_error(ytr,trpred))\n",
    "print(\"Mean Squared Error of Test Data is:\",mean_squared_error(yte,tepred))"
   ]
  },
  {
   "cell_type": "code",
   "execution_count": 64,
   "id": "9c1de360",
   "metadata": {},
   "outputs": [
    {
     "name": "stdout",
     "output_type": "stream",
     "text": [
      "Mean Absolute Error of Train Data is: 1.6981196056501926\n",
      "Mean Absolute Error of Test Data is: 1.7637788308114235\n"
     ]
    }
   ],
   "source": [
    "print(\"Mean Absolute Error of Train Data is:\",mean_absolute_error(ytr,trpred))\n",
    "print(\"Mean Absolute Error of Test Data is:\",mean_absolute_error(yte,tepred))"
   ]
  },
  {
   "cell_type": "code",
   "execution_count": 60,
   "id": "a315d6ed",
   "metadata": {},
   "outputs": [
    {
     "name": "stdout",
     "output_type": "stream",
     "text": [
      "Collecting prettytable\n",
      "  Downloading prettytable-3.5.0-py3-none-any.whl (26 kB)\n",
      "Requirement already satisfied: wcwidth in c:\\users\\arshan\\anaconda3\\lib\\site-packages (from prettytable) (0.2.5)\n",
      "Installing collected packages: prettytable\n",
      "Successfully installed prettytable-3.5.0\n"
     ]
    }
   ],
   "source": [
    "!pip install prettytable"
   ]
  },
  {
   "cell_type": "markdown",
   "id": "dbd63447",
   "metadata": {},
   "source": [
    "# Observations"
   ]
  },
  {
   "cell_type": "markdown",
   "id": "e5f986cd",
   "metadata": {},
   "source": [
    "## Mean Squared Error"
   ]
  },
  {
   "cell_type": "code",
   "execution_count": 61,
   "id": "67255f8e",
   "metadata": {},
   "outputs": [
    {
     "name": "stdout",
     "output_type": "stream",
     "text": [
      "+-------+-------------------------+---------------------------------------------------+--------------------------------+\n",
      "| Sr No |          Model          |                Best Hyperparameters               | Mean Squared Error of all Data |\n",
      "+-------+-------------------------+---------------------------------------------------+--------------------------------+\n",
      "|   1.  |    Linear Regression    |                         -                         |    1.Train Data :  4.9922      |\n",
      "|       |                         |                                                   |      2.Test Data : 5.2684      |\n",
      "|       |                         |                                                   |                                |\n",
      "|   2.  |     Ridge Regression    |                   {'alpha' : 1}                   |    1.Train Data :  4.9922      |\n",
      "|       |                         |                                                   |      2.Test Data : 5.26775     |\n",
      "|       |                         |                                                   |                                |\n",
      "|   3.  |     Lasso Regression    |                 {'alpha' : 0.001}                 |    1.Train Data :  4.9954      |\n",
      "|       |                         |                                                   |      2.Test Data : 5.2631      |\n",
      "|   4.  |  ElasticNet Regression  | {'alpha' : 0.01,'l1_ratio': 0.9, 'max_iter': 100} |    1.Train Data :  4.9954      |\n",
      "|       |                         |                                                   |      2.Test Data : 5.2631      |\n",
      "|       |                         |                                                   |                                |\n",
      "|   5.  |    Adaboost Regressor   |   {'learning_rate': 0.001, 'n_estimators': 500}   |    1.Train Data :  5.5135      |\n",
      "|       |                         |                                                   |      2.Test Data : 6.0938      |\n",
      "|       |                         |                                                   |                                |\n",
      "|   6.  | Random Forest Regressor |       {'max_depth': 5, 'n_estimators': 100}       |    1.Train Data :  5.5293      |\n",
      "|       |                         |                                                   |      2.Test Data : 6.1128      |\n",
      "|       |                         |                                                   |                                |\n",
      "+-------+-------------------------+---------------------------------------------------+--------------------------------+\n"
     ]
    }
   ],
   "source": [
    "from prettytable import PrettyTable\n",
    "tab = PrettyTable([\"Sr No\", \"Model\", \"Best Hyperparameters\",\"Mean Squared Error of all Data\"])\n",
    "# Add rows\n",
    "tab.add_row([\"1.\", \"Linear Regression\", \"-\",\"1.Train Data :  4.9922 \\n 2.Test Data : 5.2684\\n\"])\n",
    "tab.add_row([\"2.\", \"Ridge Regression\", \"{'alpha' : 1}\",\"1.Train Data :  4.9922 \\n 2.Test Data : 5.26775\\n\"])\n",
    "tab.add_row([\"3.\", \"Lasso Regression\", \"{'alpha' : 0.001}\",\"1.Train Data :  4.9954 \\n 2.Test Data : 5.2631\"])\n",
    "tab.add_row([\"4.\", \"ElasticNet Regression\", \"{'alpha' : 0.01,'l1_ratio': 0.9, 'max_iter': 100}\",\"1.Train Data :  4.9954 \\n 2.Test Data : 5.2631\\n\"])\n",
    "tab.add_row([\"5.\",\"Adaboost Regressor\",\"{'learning_rate': 0.001, 'n_estimators': 500}\",\"1.Train Data :  5.5135 \\n 2.Test Data : 6.0938\\n\"])\n",
    "tab.add_row([\"6.\",\"Random Forest Regressor\",\"{'max_depth': 5, 'n_estimators': 100}\",\"1.Train Data :  5.5293 \\n 2.Test Data : 6.1128\\n\"])\n",
    "print(tab)"
   ]
  },
  {
   "cell_type": "markdown",
   "id": "4a5ac9c3",
   "metadata": {},
   "source": [
    "## Mean Absolute Error"
   ]
  },
  {
   "cell_type": "code",
   "execution_count": 65,
   "id": "54d984c6",
   "metadata": {},
   "outputs": [
    {
     "name": "stdout",
     "output_type": "stream",
     "text": [
      "+-------+-------------------------+---------------------------------------------------+--------------------------------+\n",
      "| Sr No |          Model          |                Best Hyperparameters               | Mean Squared Error of all Data |\n",
      "+-------+-------------------------+---------------------------------------------------+--------------------------------+\n",
      "|   1.  |    Linear Regression    |                         -                         |    1.Train Data :  1.6035      |\n",
      "|       |                         |                                                   |      2.Test Data : 1.6587      |\n",
      "|       |                         |                                                   |                                |\n",
      "|   2.  |     Ridge Regression    |                   {'alpha' : 1}                   |    1.Train Data :  1.6037      |\n",
      "|       |                         |                                                   |      2.Test Data : 1.6548      |\n",
      "|       |                         |                                                   |                                |\n",
      "|   3.  |     Lasso Regression    |                 {'alpha' : 0.001}                 |    1.Train Data :  1.6037      |\n",
      "|       |                         |                                                   |      2.Test Data : 1.6547      |\n",
      "|       |                         |                                                   |                                |\n",
      "|   4.  |  ElasticNet Regression  | {'alpha' : 0.01,'l1_ratio': 0.9, 'max_iter': 100} |    1.Train Data :  1.6037      |\n",
      "|       |                         |                                                   |      2.Test Data : 1.6548      |\n",
      "|       |                         |                                                   |                                |\n",
      "|   5.  |    Adaboost Regressor   |   {'learning_rate': 0.001, 'n_estimators': 500}   |    1.Train Data :  1.6037      |\n",
      "|       |                         |                                                   |      2.Test Data : 1.6547      |\n",
      "|       |                         |                                                   |                                |\n",
      "|   6.  | Random Forest Regressor |       {'max_depth': 5, 'n_estimators': 100}       |    1.Train Data :  1.6981      |\n",
      "|       |                         |                                                   |      2.Test Data : 1.7638      |\n",
      "|       |                         |                                                   |                                |\n",
      "+-------+-------------------------+---------------------------------------------------+--------------------------------+\n"
     ]
    }
   ],
   "source": [
    "from prettytable import PrettyTable\n",
    "tab = PrettyTable([\"Sr No\", \"Model\", \"Best Hyperparameters\",\"Mean Squared Error of all Data\"])\n",
    "# Add rows\n",
    "tab.add_row([\"1.\", \"Linear Regression\", \"-\",\"1.Train Data :  1.6035 \\n 2.Test Data : 1.6587\\n\"])\n",
    "tab.add_row([\"2.\", \"Ridge Regression\", \"{'alpha' : 1}\",\"1.Train Data :  1.6037 \\n 2.Test Data : 1.6548\\n\"])\n",
    "tab.add_row([\"3.\", \"Lasso Regression\", \"{'alpha' : 0.001}\",\"1.Train Data :  1.6037 \\n 2.Test Data : 1.6547\\n\"])\n",
    "tab.add_row([\"4.\", \"ElasticNet Regression\", \"{'alpha' : 0.01,'l1_ratio': 0.9, 'max_iter': 100}\",\"1.Train Data :  1.6037 \\n 2.Test Data : 1.6548\\n\"])\n",
    "tab.add_row([\"5.\",\"Adaboost Regressor\",\"{'learning_rate': 0.001, 'n_estimators': 500}\",\"1.Train Data :  1.6037 \\n 2.Test Data : 1.6547\\n\"])\n",
    "tab.add_row([\"6.\",\"Random Forest Regressor\",\"{'max_depth': 5, 'n_estimators': 100}\",\"1.Train Data :  1.6981 \\n 2.Test Data : 1.7638\\n\"])\n",
    "print(tab)"
   ]
  },
  {
   "cell_type": "code",
   "execution_count": null,
   "id": "8ba8b6ba",
   "metadata": {},
   "outputs": [],
   "source": [
    "Mean Absolute Error of Train Data is: 1.603705217223507\n",
    "Mean Absolute Error of Test Data is: 1.6547683033862501"
   ]
  }
 ],
 "metadata": {
  "kernelspec": {
   "display_name": "Python 3 (ipykernel)",
   "language": "python",
   "name": "python3"
  },
  "language_info": {
   "codemirror_mode": {
    "name": "ipython",
    "version": 3
   },
   "file_extension": ".py",
   "mimetype": "text/x-python",
   "name": "python",
   "nbconvert_exporter": "python",
   "pygments_lexer": "ipython3",
   "version": "3.9.12"
  }
 },
 "nbformat": 4,
 "nbformat_minor": 5
}
